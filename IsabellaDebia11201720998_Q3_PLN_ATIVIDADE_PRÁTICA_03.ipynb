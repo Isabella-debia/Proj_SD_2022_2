{
  "nbformat": 4,
  "nbformat_minor": 0,
  "metadata": {
    "colab": {
      "provenance": [],
      "include_colab_link": true
    },
    "kernelspec": {
      "name": "python3",
      "display_name": "Python 3"
    }
  },
  "cells": [
    {
      "cell_type": "markdown",
      "metadata": {
        "id": "view-in-github",
        "colab_type": "text"
      },
      "source": [
        "<a href=\"https://colab.research.google.com/github/Isabella-debia/Proj_SD_2022_2/blob/main/IsabellaDebia11201720998_Q3_PLN_ATIVIDADE_PR%C3%81TICA_03.ipynb\" target=\"_parent\"><img src=\"https://colab.research.google.com/assets/colab-badge.svg\" alt=\"Open In Colab\"/></a>"
      ]
    },
    {
      "cell_type": "markdown",
      "metadata": {
        "id": "Y6QILOdpOjwv"
      },
      "source": [
        "# **Processamento de Linguagem Natural [2023.Q3]**\n",
        "Prof. Alexandre Donizeti Alves"
      ]
    },
    {
      "cell_type": "markdown",
      "metadata": {
        "id": "8m67OOx9MX_3"
      },
      "source": [
        "### **ATIVIDADE PRÁTICA 03 [Tutorial sobre uma API]**\n",
        "\n",
        "---"
      ]
    },
    {
      "cell_type": "markdown",
      "metadata": {
        "id": "5Gk0nHKabBT-"
      },
      "source": [
        "A **ATIVIDADE PRÁTICA 03** deve ser feita utilizando o **Google Colab** com uma conta\n",
        "sua vinculada ao Gmail. O link do seu notebook, armazenado no Google Drive, além do link de um repositório no GitHub e os principais resultados da atividade, devem ser enviados usando o seguinte formulário:\n",
        "\n",
        "> https://forms.gle/nPsWnUuE5GCeXaiU8 (**AINDA EM CONSTRUÇÃO**)\n",
        "\n",
        "\n",
        "**IMPORTANTE**: A submissão deve ser feita APENAS POR UM INTEGRANTE DA EQUIPE até o dia 02/11 (quinta-feira - até às 23h59). Por favor, lembre-se de dar permissão de ACESSO IRRESTRITO para o professor da disciplina de PLN."
      ]
    },
    {
      "cell_type": "markdown",
      "metadata": {
        "id": "D7hJlilKM485"
      },
      "source": [
        "### **EQUIPE**\n",
        "\n",
        "---"
      ]
    },
    {
      "cell_type": "markdown",
      "source": [],
      "metadata": {
        "id": "JimJTNuIIkuc"
      }
    },
    {
      "cell_type": "markdown",
      "source": [
        "**POR FAVOR, PREENCHER OS INTEGRANDES DA SUA EQUIPE:**\n",
        "\n",
        "\n",
        "**Integrante 01:**\n",
        "\n",
        "`Isabella Cristina Debia    11201720998`\n"
      ],
      "metadata": {
        "id": "tnIArN0QY-Ek"
      }
    },
    {
      "cell_type": "markdown",
      "source": [],
      "metadata": {
        "id": "kjq8LwyfJuE5"
      }
    },
    {
      "cell_type": "markdown",
      "source": [
        "### **API**\n",
        "---"
      ],
      "metadata": {
        "id": "6yExhaebs-nD"
      }
    },
    {
      "cell_type": "markdown",
      "source": [
        "**QUAL A API SELECIONADA POR SUA EQUIPE?**\n",
        "\n",
        "`API: Pinterest`\n",
        "\n",
        "`Site oficial: https://developers.pinterest.com/`\n",
        "\n",
        "`Link para a documentação oficial: https://developers.pinterest.com/docs/new/welcome/`"
      ],
      "metadata": {
        "id": "DjJM_qhEZRy6"
      }
    },
    {
      "cell_type": "markdown",
      "metadata": {
        "id": "EtjgWQRzNphL"
      },
      "source": [
        "### **DESCRIÇÃO**\n",
        "---"
      ]
    },
    {
      "cell_type": "markdown",
      "source": [
        "Implementar um `notebook` no `Google Colab` para demonstrar passo a passo como usar uma determinada **API** em `Python`, ou seja, criar um **TUTORIAL** destacando desde a instalação e configuração da **API** até as principais finalidades. O **TUTORIAL** deve ser o mais completo possível, com diversos exemplos de uso e permitindo ser facilmente reproduzido.\n",
        "\n",
        "A **API** deve ser selecionada na seguinte planilha:\n",
        "\n",
        "https://docs.google.com/spreadsheets/d/1-Q1szJ3UmoE2_3LtcRQyqid5fPIcnpsR3XAPnoxLj2o/edit?usp=sharing\n",
        "\n",
        ">\n",
        "\n",
        "**IMPORTANTE:** É obrigatório usar o e-mail da UFABC.\n",
        "\n",
        ">\n",
        "\n",
        "**DICA:** Por favor, insira o seu nome ou da sua equipe na ordem definida na planilha. A escolha da **API** deve ser feita de acordo com a lista disponibilizada na planilha. Cada **API** só pode ser escolhida por, no **MÁXIMO**, 2 equipes."
      ],
      "metadata": {
        "id": "fXTwkiiGs2BV"
      }
    },
    {
      "cell_type": "markdown",
      "source": [
        "### **ROTEIRO PARA APRESENTAÇÃO DE UMA API**\n",
        "\n",
        "---\n",
        ">\n",
        "\n",
        "\n",
        "**IMPORTANTE**: consulta feita no ChatGPT\n",
        "\n",
        ">\n",
        "\n",
        "Como escrever um tutorial sobre uma API em Python usando o Google Colab com foco nas etapas essenciais. Aqui está um guia rápido:\n",
        "\n",
        ">\n",
        "\n",
        "* **Passo 01: Introdução**\n",
        "\n",
        "  >  Apresente a API que você está explicando.\n",
        "\n",
        "  >  Explique por que é útil ou relevante.\n",
        "\n",
        "* **Passo 02: Configuração no Google Colab**\n",
        "\n",
        "  > Explique como os leitores podem abrir um novo notebook no Google Colab.\n",
        "\n",
        "  > Mostre como importar bibliotecas necessárias.\n",
        "\n",
        "  > Instrua sobre como instalar quaisquer bibliotecas adicionais, se necessário.\n",
        "\n",
        "* **Passo 03: Autenticação (se aplicável)**\n",
        "\n",
        "  > Descreva como configurar a autenticação, caso a API exija.\n",
        "\n",
        "  > Forneça orientações sobre a obtenção de chaves de API ou tokens.\n",
        "\n",
        "* **Passo 04: Utilização Básica da API**\n",
        "\n",
        "  > Demonstre como fazer uma solicitação simples à API.\n",
        "\n",
        "  > Mostre como processar a resposta da API.\n",
        "\n",
        "* **Passo 05: Exemplos Práticos**\n",
        "\n",
        "  > Forneça exemplos práticos e úteis que os leitores podem seguir.\n",
        "\n",
        "  > Mostre como aplicar a API em cenários do mundo real.\n",
        "\n",
        "\n",
        "* **Passo 06: Considerações**\n",
        "\n",
        "  > Recapitule os principais pontos do tutorial.\n",
        "\n",
        "  > Incentive os leitores a explorar mais a API e experimentar por conta própria.\n",
        "\n",
        "* **Passo 07: Publicação**\n",
        "\n",
        "   > Considere compartilhar seu tutorial em plataformas como Medium, GitHub (obrigatório) ou seu blog pessoal.\n",
        "\n",
        "* **Passo 08: Promoção**\n",
        "\n",
        "  > Compartilhe seu tutorial nas redes sociais, grupos de desenvolvedores e fóruns relevantes.\n",
        "\n",
        "**IMPORTANTE**: Lembre-se de manter o tutorial curto e direto ao ponto. Use exemplos de código eficazes e forneça informações práticas que os leitores possam seguir facilmente. O Google Colab é uma ótima plataforma para compartilhar tutoriais, pois permite que os leitores executem o código diretamente no navegador.\n"
      ],
      "metadata": {
        "id": "wbICIIGcYPNf"
      }
    },
    {
      "cell_type": "markdown",
      "source": [
        "### **CRITÉRIOS DE AVALIAÇÃO**\n",
        "---\n"
      ],
      "metadata": {
        "id": "gWsBYQNtxmum"
      }
    },
    {
      "cell_type": "markdown",
      "source": [
        "As 3 equipes que **criarem os melhores tutoriais**  terão o peso diminuido na AVALIAÇÃO (Prova Escrita) em **25%** (caindo de 40 para 30).\n",
        "\n",
        "**IMPORTANTE**: a diminuição no peso da AVALIAÇÃO será aplicado para todos os membros da equipe.\n",
        "\n",
        "\n",
        "\n"
      ],
      "metadata": {
        "id": "5iHdx4BXYruQ"
      }
    },
    {
      "cell_type": "markdown",
      "source": [
        "### **TUTORIAL**\n",
        "---"
      ],
      "metadata": {
        "id": "nw09lujGvfjc"
      }
    },
    {
      "cell_type": "markdown",
      "source": [
        "**PINTEREST**"
      ],
      "metadata": {
        "id": "5q9zcrJj0n4H"
      }
    },
    {
      "cell_type": "markdown",
      "source": [
        "#### **INTRODUÇÃO**"
      ],
      "metadata": {
        "id": "ZM2EJhRIaaa2"
      }
    },
    {
      "cell_type": "markdown",
      "source": [
        "**Descrição da API**"
      ],
      "metadata": {
        "id": "FjG5RIW5bMfd"
      }
    },
    {
      "cell_type": "markdown",
      "source": [
        "**API do Pinterest para Desenvolvedores**\n",
        "\n",
        "A API do Pinterest para Desenvolvedores é uma ferramenta poderosa que permite aos desenvolvedores criar aplicativos e serviços que interagem com a plataforma Pinterest. Com esta API, os desenvolvedores podem acessar dados, interagir com pins, boards e usuários, e criar experiências personalizadas relacionadas ao Pinterest.\n",
        "\n",
        "\n",
        "---\n",
        "\n",
        "\n",
        "\n",
        "**Por que é Útil ou Relevante:**\n",
        "\n",
        "**Criação de Aplicativos Personalizados:** A API do Pinterest oferece a oportunidade de criar aplicativos personalizados que podem ajudar os usuários a descobrir, compartilhar e gerenciar conteúdo visual de forma mais eficaz.\n",
        "\n",
        "**Integração de Recursos do Pinterest:** Desenvolvedores podem integrar funcionalidades do Pinterest, como a pesquisa de pins, o compartilhamento de conteúdo e a gestão de boards, em seus próprios aplicativos e sites.\n",
        "\n",
        "**Marketing e Análise de Dados:** A API do Pinterest também é valiosa para profissionais de marketing, permitindo que eles acessem dados de análise, automatizem tarefas de publicação e ampliem sua presença no Pinterest.\n",
        "\n",
        "**Potencial Criativo e de Negócios:** A API do Pinterest abre possibilidades criativas e comerciais, permitindo que empresas, criadores e desenvolvedores inovem e alcancem um público mais amplo na plataforma.\n",
        "\n",
        "Este é um recurso valioso para aqueles que desejam estender a funcionalidade do Pinterest ou criar aplicativos relacionados ao conteúdo visual e compartilhamento de ideias.\n",
        "\n",
        "\n",
        "\n"
      ],
      "metadata": {
        "id": "7kndSzDVbQkd"
      }
    },
    {
      "cell_type": "markdown",
      "source": [
        "#### **CONFIGURAÇÃO**"
      ],
      "metadata": {
        "id": "5DIH_lmdaqrh"
      }
    },
    {
      "cell_type": "markdown",
      "source": [
        " **Criação de uma Conta de Desenvolvedor**\n",
        "\n",
        "Antes de começar a usar a API do Pinterest, você precisa criar uma conta de desenvolvedor no Pinterest. Acesse https://developers.pinterest.com/ e siga as instruções para criar sua conta."
      ],
      "metadata": {
        "id": "kRsLeIYRNTAG"
      }
    },
    {
      "cell_type": "markdown",
      "source": [
        "**Criação de um Aplicativo**\n",
        "\n",
        "Depois de criar sua conta de desenvolvedor, é hora de criar um aplicativo no Pinterest. Isso permitirá que você obtenha as credenciais necessárias para acessar a API.\n",
        "\n",
        "1.   Faça login em sua conta de desenvolvedor no Pinterest.\n",
        "2.   No painel do desenvolvedor, clique em \"Conectar Aplicativo\" e siga as instruções fornecidas. [https://developers.pinterest.com/apps/]\n",
        "3.   Após conectar o aplicativo, você receberá um \"App ID\" e um \"App Secret\" que serão usados para autenticação."
      ],
      "metadata": {
        "id": "GRwO23QuNYvz"
      }
    },
    {
      "cell_type": "markdown",
      "source": [
        " **Importação das Bibliotecas Necessárias**\n",
        "\n",
        "Abra um novo notebook no Google Colab acessando https://colab.research.google.com/.\n",
        "\n",
        "Para começar a interagir com a API do Pinterest, você precisará de algumas bibliotecas Python.  Você pode fazer isso com o código a seguir:"
      ],
      "metadata": {
        "id": "UIyA117NLvbw"
      }
    },
    {
      "cell_type": "code",
      "source": [
        "import requests\n"
      ],
      "metadata": {
        "id": "lgrwFC7RL2zy"
      },
      "execution_count": 1,
      "outputs": []
    },
    {
      "cell_type": "markdown",
      "source": [
        "Se a biblioteca necessária não estiver disponível no ambiente do Google Colab, você pode instalá-la diretamente no notebook usando o comando !pip install nome_da_biblioteca."
      ],
      "metadata": {
        "id": "XgtjyTBmPRaU"
      }
    },
    {
      "cell_type": "markdown",
      "source": [
        "#### **AUTENTICAÇÃO (SE APLICÁVEL)**"
      ],
      "metadata": {
        "id": "SwZgsj4narLo"
      }
    },
    {
      "cell_type": "markdown",
      "source": [
        "A API do Pinterest usa o fluxo OAuth 2.0 para autenticação. Aqui estão os passos para obter um token de acesso:"
      ],
      "metadata": {
        "id": "pfLgaPXXN9ks"
      }
    },
    {
      "cell_type": "markdown",
      "source": [
        "1. Defina suas credenciais de aplicativo no notebook."
      ],
      "metadata": {
        "id": "WaLF_uOqODsU"
      }
    },
    {
      "cell_type": "code",
      "source": [
        "client_id = 'seu_client_id'\n",
        "client_secret = 'seu_client_secret'\n"
      ],
      "metadata": {
        "id": "uzdu2MfwbA1R"
      },
      "execution_count": null,
      "outputs": []
    },
    {
      "cell_type": "markdown",
      "source": [
        "2. Solicite um código de autorização do Pinterest."
      ],
      "metadata": {
        "id": "Verx4XHJOM9T"
      }
    },
    {
      "cell_type": "code",
      "source": [
        "auth_url = 'https://api.pinterest.com/oauth/'\n",
        "auth_params = {\n",
        "    'response_type': 'code',\n",
        "    'client_id': client_id,\n",
        "    'redirect_uri': 'https://seu_uri_de_redirecionamento',\n",
        "    'scope': 'read_public write_public',\n",
        "}\n",
        "\n",
        "auth_response = requests.get(auth_url, params=auth_params)\n"
      ],
      "metadata": {
        "id": "hn5i_8fSOHy0"
      },
      "execution_count": null,
      "outputs": []
    },
    {
      "cell_type": "markdown",
      "source": [
        "3. Obtenha o código de autorização manualmente a partir do URL de redirecionamento.\n",
        "\n",
        "4. Troque o código de autorização por um token de acesso."
      ],
      "metadata": {
        "id": "0EkyB72iOVAF"
      }
    },
    {
      "cell_type": "code",
      "source": [
        "token_url = 'https://api.pinterest.com/v1/oauth/token'\n",
        "token_params = {\n",
        "    'grant_type': 'authorization_code',\n",
        "    'client_id': client_id,\n",
        "    'client_secret': client_secret,\n",
        "    'code': 'seu_codigo_de_autorizacao',\n",
        "}\n",
        "\n",
        "token_response = requests.post(token_url, data=token_params)\n",
        "access_token = token_response.json()['access_token']\n"
      ],
      "metadata": {
        "id": "xvz6EdhROZoz"
      },
      "execution_count": null,
      "outputs": []
    },
    {
      "cell_type": "markdown",
      "source": [
        "#### **UTILIZAÇÃO BÁSICA**"
      ],
      "metadata": {
        "id": "ZjXBfNHwarfV"
      }
    },
    {
      "cell_type": "markdown",
      "source": [
        "Agora que você tem um token de acesso, é possível fazer solicitações à API. Por exemplo, para listar pins populares, use o seguinte código:"
      ],
      "metadata": {
        "id": "Dla07qffPYnZ"
      }
    },
    {
      "cell_type": "code",
      "source": [
        "url = 'https://api.pinterest.com/v1/pins/popular/'\n",
        "params = {\n",
        "    'access_token': access_token,\n",
        "    'limit': 10,\n",
        "}\n",
        "\n",
        "response = requests.get(url, params=params)\n",
        "data = response.json()\n",
        "print(data)\n"
      ],
      "metadata": {
        "id": "bNqB40PlbAWx"
      },
      "execution_count": null,
      "outputs": []
    },
    {
      "cell_type": "markdown",
      "source": [
        "\n",
        "\n",
        "```\n",
        "# Isto está formatado como código\n",
        "```\n",
        "\n",
        "#### **EXEMPLOS PRÁTICOS**"
      ],
      "metadata": {
        "id": "marqph_raryN"
      }
    },
    {
      "cell_type": "code",
      "source": [
        "# Exemplo de pesquisa por pins com base em palavras-chave\n",
        "query = 'receitas saudáveis'\n",
        "url = 'https://api.pinterest.com/v1/pins/search/'\n",
        "params = {\n",
        "    'access_token': access_token,\n",
        "    'query': query,\n",
        "    'limit': 10\n",
        "}\n",
        "\n",
        "response = requests.get(url, params=params)\n",
        "data = response.json()\n",
        "data  # Exiba a resposta da pesquisa\n",
        "\n",
        "\n"
      ],
      "metadata": {
        "id": "aL49vegTa_4e"
      },
      "execution_count": null,
      "outputs": []
    },
    {
      "cell_type": "markdown",
      "source": [
        "#### **CONSIDERAÇÕES**"
      ],
      "metadata": {
        "id": "xIP2DoACa7of"
      }
    },
    {
      "cell_type": "markdown",
      "source": [
        "Agora que você sabe como se conectar à API do Pinterest, é hora de explorar e criar. Você pode usar a API para pesquisar pins, criar pins, interagir com boards e muito mais. A documentação oficial do Pinterest é sua melhor amiga aqui."
      ],
      "metadata": {
        "id": "dCRN197XbcQH"
      }
    },
    {
      "cell_type": "markdown",
      "source": [
        "**REFERÊNCIAS**\n",
        "\n",
        "---\n",
        "\n"
      ],
      "metadata": {
        "id": "DJa20CJRpQ7t"
      }
    },
    {
      "cell_type": "markdown",
      "source": [
        "https://developers.pinterest.com/\n",
        "\n",
        "https://help.pinterest.com/pt-br/business/article/the-pinterest-api-for-conversions\n",
        "\n",
        "https://www.youtube.com/watch?v=4MSGXHtcpsM"
      ],
      "metadata": {
        "id": "GxpuIOR3pUWr"
      }
    }
  ]
}